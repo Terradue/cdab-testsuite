{
 "cells": [
  {
   "cell_type": "markdown",
   "metadata": {},
   "source": [
    "### <a name=\"runtime\">Runtime parameter definition"
   ]
  },
  {
   "cell_type": "code",
   "execution_count": null,
   "metadata": {},
   "outputs": [],
   "source": [
    "aoi_wkt = 'POLYGON((128.6102 38.1604, 128.6102 38.3037, 128.4164 38.3037, 128.4164 38.1604, 128.6102 38.1604))'"
   ]
  },
  {
   "cell_type": "markdown",
   "metadata": {},
   "source": [
    "**Input identifiers**\n",
    "\n",
    "This is the Sentinel-2 stack of products' identifiers"
   ]
  },
  {
   "cell_type": "code",
   "execution_count": null,
   "metadata": {},
   "outputs": [],
   "source": [
    "input_identifiers = ('S2A_MSIL2A_20190403T021651_N0211_R003_T52SDH_20190404T105016',\n",
    "                     'S2B_MSIL2A_20190408T021609_N0211_R003_T52SDH_20190408T045111')"
   ]
  },
  {
   "cell_type": "markdown",
   "metadata": {
    "slideshow": {
     "slide_type": "slide"
    }
   },
   "source": [
    "**Data path**\n",
    "\n",
    "This path defines where the data is staged in. "
   ]
  },
  {
   "cell_type": "code",
   "execution_count": null,
   "metadata": {},
   "outputs": [],
   "source": [
    "data_path = '/workspace/data'"
   ]
  },
  {
   "cell_type": "markdown",
   "metadata": {},
   "source": [
    "**Imports**"
   ]
  },
  {
   "cell_type": "code",
   "execution_count": null,
   "metadata": {},
   "outputs": [],
   "source": [
    "import os\n",
    "os.environ['PREFIX'] = '/opt/anaconda/envs/env_burned_area/'\n",
    "import sys\n",
    "sys.path.append(os.path.join(os.environ['PREFIX'], 'conda-otb/lib/python'))\n",
    "os.environ['OTB_APPLICATION_PATH'] = os.path.join(os.environ['PREFIX'], 'conda-otb/lib/otb/applications')\n",
    "os.environ['GDAL_DATA'] =  os.path.join(os.environ['PREFIX'], 'share/gdal')\n",
    "os.environ['PROJ_LIB'] = os.path.join(os.environ['PREFIX'], 'share/proj')\n",
    "os.environ['GPT_BIN'] = os.path.join(os.environ['PREFIX'], 'snap/bin/gpt')\n",
    "\n",
    "import otbApplication\n",
    "\n",
    "import gdal\n",
    "\n",
    "from helpers import *\n",
    "from shapely.wkt import loads\n",
    "from shapely.geometry import box, shape, mapping\n",
    "from shapely.errors import ReadingError\n",
    "import shutil\n",
    "from datetime import datetime\n",
    "import xml.etree.ElementTree as ET\n",
    "\n",
    "os.environ['_JAVA_OPTIONS'] = '-Xms1g -Xmx1g'\n",
    "\n",
    "gdal.UseExceptions()\n",
    "\n",
    "print(\"Success!\")"
   ]
  },
  {
   "cell_type": "markdown",
   "metadata": {},
   "source": [
    "### <a name=\"workflow\">Workflow"
   ]
  },
  {
   "cell_type": "markdown",
   "metadata": {},
   "source": [
    "Set the metadata of the input products."
   ]
  },
  {
   "cell_type": "code",
   "execution_count": null,
   "metadata": {},
   "outputs": [],
   "source": [
    "results = [\n",
    "    {\n",
    "        'cc': '4.844317',\n",
    "        'startdate': '2019-04-03T02:16:51.0240000Z',\n",
    "        'enddate': '2019-04-03T02:16:51.0240000Z',\n",
    "        'identifier': 'S2A_MSIL2A_20190403T021651_N0211_R003_T52SDH_20190404T105016',\n",
    "        'orbitDirection': 'DESCENDING',\n",
    "        'wkt': 'POLYGON((127.862827804024 37.8539506483739,129.110953580642 37.8593896852583,129.112474038138 38.8489443331943,127.847248649247 38.8433100584832,127.862827804024 37.8539506483739))'\n",
    "    },\n",
    "    {\n",
    "        'cc': '14.461197',\n",
    "        'enddate': '2019-04-08T02:16:09.0240000Z',\n",
    "        'identifier': 'S2B_MSIL2A_20190408T021609_N0211_R003_T52SDH_20190408T045111',\n",
    "        'orbitDirection': 'DESCENDING',\n",
    "        'startdate': '2019-04-08T02:16:09.0240000Z',\n",
    "        'wkt': 'POLYGON((127.862827804024 37.8539506483739,129.110953580642 37.8593896852583,129.112474038138 38.8489443331943,127.847248649247 38.8433100584832,127.862827804024 37.8539506483739))'\n",
    "    }\n",
    "]"
   ]
  },
  {
   "cell_type": "code",
   "execution_count": null,
   "metadata": {},
   "outputs": [],
   "source": [
    "for row in results:\n",
    "    row['wkt'] = loads(row['wkt'])\n",
    "results"
   ]
  },
  {
   "cell_type": "code",
   "execution_count": null,
   "metadata": {},
   "outputs": [],
   "source": [
    "aoi = loads(aoi_wkt)\n",
    "(min_lon, min_lat, max_lon, max_lat) = aoi.bounds"
   ]
  },
  {
   "cell_type": "code",
   "execution_count": null,
   "metadata": {},
   "outputs": [],
   "source": [
    "print(aoi)\n",
    "print (isinstance(aoi, str))\n",
    "for row in results:\n",
    "    #print(\"{0}: {1}\".format(row['wkt'], row['wkt'].area))\n",
    "    ext = analyse(row, aoi, data_path)\n",
    "    #print(ext)\n",
    "    \n",
    "for row in results:\n",
    "    print(row)\n",
    "\n",
    "\n",
    "#sentinel2_search = sentinel2_search.merge(sentinel2_search.apply(lambda row: analyse(row, aoi, data_path), axis=1), \n",
    "#                                          left_index=True,\n",
    "#                                          right_index=True)"
   ]
  },
  {
   "cell_type": "code",
   "execution_count": null,
   "metadata": {},
   "outputs": [],
   "source": [
    "os.environ['GDAL_DATA'] = '/opt/anaconda/envs/env_ewf_burned_area/share/gdal/'"
   ]
  },
  {
   "cell_type": "code",
   "execution_count": null,
   "metadata": {},
   "outputs": [],
   "source": [
    "composites = []\n",
    "\n",
    "bands = ['B12', 'B11', 'B8A']\n",
    "\n",
    "for row in results:\n",
    "    vrt_bands = []\n",
    "    \n",
    "    for j, band in enumerate(bands):\n",
    "        \n",
    "        vrt_bands.append(get_band_path(row, band))\n",
    "    \n",
    "    vrt = '{0}.vrt'.format(row['identifier'])\n",
    "    ds = gdal.BuildVRT(vrt,\n",
    "                       vrt_bands,\n",
    "                       srcNodata=0,\n",
    "                       xRes=10, \n",
    "                       yRes=10,\n",
    "                       separate=True)\n",
    "    ds.FlushCache()\n",
    "    \n",
    "    tif =  '{0}.tif'.format(row['identifier'])\n",
    "    \n",
    "    if aoi is None:\n",
    "        gdal.Translate(tif,\n",
    "                       vrt,\n",
    "                       outputType=gdal.GDT_Byte, \n",
    "                       scaleParams=[[0, 10000, 0, 255]])\n",
    "    else:\n",
    "        gdal.Translate(tif,\n",
    "                       vrt,\n",
    "                       projWin=[min_lon, max_lat, max_lon, min_lat],\n",
    "                       projWinSRS='EPSG:4326',\n",
    "                       outputType=gdal.GDT_Byte, \n",
    "                       scaleParams=[[0, 10000, 0, 255]])\n",
    "        \n",
    "        \n",
    "        \n",
    "    tif_e =  '{0}_NIR_SWIR_COMPOSITE.tif'.format(row['identifier'])\n",
    "    \n",
    "    try:\n",
    "        contrast_enhancement(tif, tif_e)\n",
    "\n",
    "        composites.append(tif_e)\n",
    "    except Exception as e:\n",
    "        print(str(e))\n",
    "    \n",
    "    # os.remove(tif)\n",
    "    # os.remove(vrt)"
   ]
  },
  {
   "cell_type": "markdown",
   "metadata": {},
   "source": [
    "### Hot spot"
   ]
  },
  {
   "cell_type": "code",
   "execution_count": null,
   "metadata": {},
   "outputs": [],
   "source": [
    "bands = ['B8A', 'B12']\n",
    "\n",
    "composites = []\n",
    "\n",
    "for row in results:\n",
    "        \n",
    "    vrt_bands = []\n",
    "    \n",
    "    for j, band in enumerate(bands):\n",
    "        \n",
    "        vrt_bands.append(get_band_path(row, band))\n",
    "    \n",
    "    vrt = '{0}.vrt'.format(row['identifier'])\n",
    "    ds = gdal.BuildVRT(vrt,\n",
    "                       vrt_bands,\n",
    "                       srcNodata=0,\n",
    "                       xRes=20, \n",
    "                       yRes=20,\n",
    "                       separate=True)\n",
    "    ds.FlushCache()\n",
    "    \n",
    "    tif =  '{0}.tif'.format(row['identifier'])\n",
    "    \n",
    "    if aoi is not None:\n",
    "        gdal.Translate(tif,\n",
    "                       vrt,\n",
    "                       projWin=[min_lon, max_lat, max_lon, min_lat],\n",
    "                       projWinSRS='EPSG:4326',\n",
    "                       outputType=gdal.GDT_Float32)\n",
    "    else:\n",
    "        \n",
    "        gdal.Translate(tif,\n",
    "                       vrt,\n",
    "                       outputType=gdal.GDT_Float32)\n",
    "        \n",
    "    \n",
    "    hot_spot(get_band_path(row, 'B8A'),\n",
    "             get_band_path(row, 'B12'),\n",
    "             '{0}_HOT_SPOT.tif'.format(row['identifier']))\n",
    "    \n",
    "    # os.remove(tif)\n",
    "    # os.remove(vrt)"
   ]
  },
  {
   "cell_type": "code",
   "execution_count": null,
   "metadata": {},
   "outputs": [],
   "source": [
    "for row in results:\n",
    "    \n",
    "    hot_spot(get_band_path(row, 'B8A'),\n",
    "             get_band_path(row, 'B12'),\n",
    "             '{0}_HOT_SPOT.tif'.format(row['identifier']))"
   ]
  },
  {
   "cell_type": "code",
   "execution_count": null,
   "metadata": {},
   "outputs": [],
   "source": [
    "pre_processed = []\n",
    "\n",
    "resample = dict()\n",
    "resample['referenceBandName'] = 'B2'\n",
    "\n",
    "reproject = dict()\n",
    "reproject['crs'] = 'EPSG:4326'\n",
    "\n",
    "subset = dict()\n",
    "subset['geoRegion'] = box(*aoi.bounds).wkt\n",
    "subset['copyMetadata'] = 'true'\n",
    "\n",
    "bands = '''<targetBands>\n",
    "    <targetBand>\n",
    "      <name>NDWI</name>\n",
    "      <type>float32</type>\n",
    "      <expression>(B3 - B8) / (B3 + B8)</expression>\n",
    "      <description/>\n",
    "      <unit/>\n",
    "      <noDataValue>NaN</noDataValue>\n",
    "    </targetBand>\n",
    "    <targetBand>\n",
    "      <name>NBR</name>\n",
    "      <type>float32</type>\n",
    "      <expression>(B8 - B12) / (B8 + B12)</expression>\n",
    "      <description/>\n",
    "      <unit/>\n",
    "      <noDataValue>NaN</noDataValue>\n",
    "    </targetBand>\n",
    "    <targetBand>\n",
    "      <name>valid_pixels</name>\n",
    "      <type>float32</type>\n",
    "      <expression>scl_vegetation or scl_not_vegetated ? 1 : 0</expression>\n",
    "      <description/>\n",
    "      <unit/>\n",
    "      <noDataValue>NaN</noDataValue>\n",
    "    </targetBand>\n",
    "    </targetBands>'''\n",
    "\n",
    "band_maths = dict()\n",
    "band_maths['targetBandDescriptors'] = bands \n",
    "\n",
    "\n",
    "\n",
    "for row in results:\n",
    "    print(os.path.join(row['local_path'], row['identifier'] + '.SAFE', 'MTD_MSIL2A.xml'))\n",
    "    \n",
    "    read = dict()\n",
    "    read['file'] = os.path.join(row['local_path'], row['identifier'] + '.SAFE', 'MTD_MSIL2A.xml') #, 'manifest.safe')\n",
    "    #read['formatName'] = 'SENTINEL-2-MSI-MultiRes-UTM52N'\n",
    "    \n",
    "    write = dict()\n",
    "    write['file'] = 'pre_{}'.format(row['identifier'])\n",
    "\n",
    "    row['pre_proc'] = 'pre_{}'.format(row['identifier'])\n",
    "    \n",
    "    \n",
    "    pre_processed.append('pre_{}'.format(row['identifier']))\n",
    "\n",
    "    print(\"*******\")\n",
    "    print(\"IDENTIFIER = {0}\".format(row['identifier']))\n",
    "    print(\"READ = {0}\".format(read))\n",
    "    print(\"WRITE = {0}\".format(write))\n",
    "    print(\"*******\")\n",
    "    \n",
    "    \n",
    "    pre_processing2(Read=read, \n",
    "                 Resample=resample, \n",
    "                 Reproject=reproject, \n",
    "                 Subset=subset,\n",
    "                 BandMaths=band_maths,\n",
    "                 Write=write)"
   ]
  },
  {
   "cell_type": "code",
   "execution_count": null,
   "metadata": {},
   "outputs": [],
   "source": [
    "print(results)"
   ]
  },
  {
   "cell_type": "code",
   "execution_count": null,
   "metadata": {},
   "outputs": [],
   "source": [
    "master_path = \"{0}.dim\".format(min((r['pre_proc'] for r in results)))\n",
    "slave_path = \"{0}.dim\".format(max((r['pre_proc'] for r in results)))\n",
    "\n",
    "print(master_path)\n",
    "print(slave_path)"
   ]
  },
  {
   "cell_type": "code",
   "execution_count": null,
   "metadata": {},
   "outputs": [],
   "source": [
    "mygraph = GraphProcessor('/opt/anaconda/envs/env_ewf_burned_area/snap/bin/gpt')\n",
    "operator = 'Read'\n",
    "\n",
    "node_id = 'Read_M'\n",
    "\n",
    "source_node_id = ''\n",
    "\n",
    "parameters = get_operator_default_parameters(operator)\n",
    "     \n",
    "parameters['file'] = master_path \n",
    "    \n",
    "mygraph.add_node(node_id, operator, parameters, source_node_id)\n",
    "\n",
    "operator = 'Read'\n",
    "\n",
    "node_id = 'Read_S'\n",
    "\n",
    "source_node_id = ''\n",
    "\n",
    "parameters = get_operator_default_parameters(operator)\n",
    "     \n",
    "parameters['file'] = slave_path   \n",
    "    \n",
    "mygraph.add_node(node_id, operator, parameters, source_node_id)\n",
    "\n",
    "operator = 'Collocate'\n",
    "\n",
    "parameters = get_operator_default_parameters(operator)\n",
    "\n",
    "parameters['masterComponentPattern'] = 'PRE_FIRE_${ORIGINAL_NAME}'\n",
    "parameters['slaveComponentPattern'] = 'POST_FIRE_${ORIGINAL_NAME}'\n",
    "\n",
    "source_node_id = dict()\n",
    "\n",
    "source_node_id['master'] = 'Read_M'\n",
    "\n",
    "source_node_id['slave'] = 'Read_S'\n",
    "\n",
    "\n",
    "node_id = 'Collocate'\n",
    "\n",
    "mygraph.add_node(operator, operator,  parameters, source_node_id)\n",
    "\n",
    "operator = 'Write'\n",
    "\n",
    "node_id = 'Write'\n",
    "\n",
    "source_node_id = 'Collocate'\n",
    "\n",
    "\n",
    "\n",
    "parameters = get_operator_default_parameters(operator)\n",
    "\n",
    "parameters['file'] = 'collocated'\n",
    "parameters['formatName'] = 'BEAM-DIMAP'\n",
    "\n",
    "mygraph.add_node(node_id, operator, parameters, source_node_id)"
   ]
  },
  {
   "cell_type": "code",
   "execution_count": null,
   "metadata": {},
   "outputs": [],
   "source": [
    "run2(mygraph)"
   ]
  },
  {
   "cell_type": "code",
   "execution_count": null,
   "metadata": {},
   "outputs": [],
   "source": [
    "output_name = 'burned_area_{0}_{1}'.format(datetime.strptime(max(r['enddate'] for r in results)[:19] , '%Y-%m-%dT%H:%M:%S').strftime('%Y%m%d_%H%M%S'),\n",
    "                                          datetime.strptime(max(r['enddate'] for r in results)[:19] , '%Y-%m-%dT%H:%M:%S').strftime('%Y%m%d_%H%M%S'))"
   ]
  },
  {
   "cell_type": "code",
   "execution_count": null,
   "metadata": {},
   "outputs": [],
   "source": [
    "collocated_input = 'collocated.dim'\n",
    "\n",
    "read = dict()\n",
    "read['file'] = collocated_input\n",
    "\n",
    "bands = '''<targetBands>\n",
    "    <targetBand>\n",
    "      <name>dNBR</name>\n",
    "      <type>float32</type>\n",
    "      <expression>(PRE_FIRE_valid_pixels == 1 and POST_FIRE_valid_pixels == 1 and ((PRE_FIRE_NBR - POST_FIRE_NBR) / (PRE_FIRE_NBR + 1.001)) > 0.27) ? PRE_FIRE_NBR - POST_FIRE_NBR : -999</expression>\n",
    "      <description/>\n",
    "      <unit/>\n",
    "      <noDataValue>NaN</noDataValue>\n",
    "    </targetBand>\n",
    "    <targetBand>\n",
    "      <name>RBR</name>\n",
    "      <type>float32</type>\n",
    "      <expression>(PRE_FIRE_valid_pixels == 1 and POST_FIRE_valid_pixels == 1 and ((PRE_FIRE_NBR - POST_FIRE_NBR) / (PRE_FIRE_NBR + 1.001)) > 0.27) ? ((PRE_FIRE_NBR - POST_FIRE_NBR) / (PRE_FIRE_NBR + 1.001)) : -999</expression>\n",
    "      <description/>\n",
    "      <unit/>\n",
    "      <noDataValue>NaN</noDataValue>\n",
    "    </targetBand>\n",
    "    <targetBand>\n",
    "      <name>valid_pixels</name>\n",
    "      <type>float32</type>\n",
    "      <expression>PRE_FIRE_valid_pixels == 1 and POST_FIRE_valid_pixels == 1</expression>\n",
    "      <description/>\n",
    "      <unit/>\n",
    "      <noDataValue>NaN</noDataValue>\n",
    "    </targetBand>\n",
    "    </targetBands>'''\n",
    "\n",
    "band_maths = dict()\n",
    "band_maths['targetBandDescriptors'] = bands \n",
    "\n",
    "write = dict()\n",
    "write['file'] = output_name\n",
    "write['formatName'] = 'GeoTIFF'\n",
    "\n",
    "burned_area(Read=read, \n",
    "            BandMaths=band_maths,\n",
    "            Write=write)"
   ]
  },
  {
   "cell_type": "code",
   "execution_count": null,
   "metadata": {},
   "outputs": [],
   "source": [
    "band_names = ['dNBR',\n",
    "              'RBR',\n",
    "             'valid_pixels']\n",
    "\n",
    "expressions = ['PRE_FIRE_NDWI >= 0.0 ? 0 : ((PRE_FIRE_NBR - POST_FIRE_NBR) / (PRE_FIRE_NBR + 1.001)) > 0.27 ? PRE_FIRE_NBR - POST_FIRE_NBR : 0',\n",
    "               'PRE_FIRE_NDWI >= 0.0 ? 0 : ((PRE_FIRE_NBR - POST_FIRE_NBR) / (PRE_FIRE_NBR + 1.001)) > 0.27 ? ((PRE_FIRE_NBR - POST_FIRE_NBR) / (PRE_FIRE_NBR + 1.001)) : 0',\n",
    "              'PRE_FIRE_valid_pixels == 1 and POST_FIRE_valid_pixels == 1']\n",
    "\n",
    "\n",
    "metadata= dict()\n",
    "\n",
    "\n",
    "ds_temp = gdal.Open(output_name + '.tif',  gdal.OF_UPDATE)\n",
    "\n",
    "for band_index in range(ds_temp.RasterCount):\n",
    "\n",
    "    metadata= dict()\n",
    "    metadata['BAND_EXPRESSION'] = expressions[band_index]\n",
    "\n",
    "    src_band = ds_temp.GetRasterBand(band_index+1)\n",
    "    src_band.SetMetadata(metadata)\n",
    "    src_band.SetDescription(band_names[band_index])  \n",
    "\n",
    "ds_temp.FlushCache()"
   ]
  },
  {
   "cell_type": "code",
   "execution_count": null,
   "metadata": {},
   "outputs": [],
   "source": [
    "severity_threshold = 0.270"
   ]
  },
  {
   "cell_type": "code",
   "execution_count": null,
   "metadata": {},
   "outputs": [],
   "source": [
    "severity_palette = {-999: [0, 0, 0, 255],\n",
    "                    -1: [159, 159, 159, 0], # grey\n",
    "                    -0.5: [43, 25, 223, 0], # blue\n",
    "                    -0.251: [139, 221, 231, 0], # cyan\n",
    "                    -0.101: [97, 169, 45, 255], # unburned, green \n",
    "                    0.099: [250, 254, 76, 0], # yellow\n",
    "                    0.269: [228, 173, 55, 0], # orange\n",
    "                    0.439: [202, 59, 18, 0],  # red\n",
    "                    0.659: [85, 15, 112, 0]} # purple"
   ]
  },
  {
   "cell_type": "code",
   "execution_count": null,
   "metadata": {},
   "outputs": [],
   "source": [
    "raster2rgb(output_name + '.tif',\n",
    "           severity_palette,\n",
    "           output_name + '.rgb.tif',\n",
    "           raster_band=1,\n",
    "           discrete=True)"
   ]
  },
  {
   "cell_type": "markdown",
   "metadata": {},
   "source": [
    "##### Clean-up"
   ]
  },
  {
   "cell_type": "code",
   "execution_count": null,
   "metadata": {},
   "outputs": [],
   "source": [
    "for dimap in ['collocated'] + [r['pre_proc'] for r in results]:\n",
    "    print(\"Delete {0}.dim\".format(dimap))\n",
    "    os.remove(dimap + '.dim')\n",
    "    print(\"Delete {0}.data\".format(dimap))\n",
    "    shutil.rmtree(dimap + '.data') "
   ]
  },
  {
   "cell_type": "markdown",
   "metadata": {},
   "source": [
    "#### License"
   ]
  },
  {
   "cell_type": "markdown",
   "metadata": {
    "slideshow": {
     "slide_type": "subslide"
    }
   },
   "source": [
    "This work is licenced under a [Attribution-ShareAlike 4.0 International License (CC BY-SA 4.0)](http://creativecommons.org/licenses/by-sa/4.0/) \n",
    "\n",
    "YOU ARE FREE TO:\n",
    "\n",
    "* Share - copy and redistribute the material in any medium or format.\n",
    "* Adapt - remix, transform, and built upon the material for any purpose, even commercially.\n",
    "\n",
    "UNDER THE FOLLOWING TERMS:\n",
    "\n",
    "* Attribution - You must give appropriate credit, provide a link to the license, and indicate if changes were made. You may do so in any reasonable manner, but not in any way that suggests the licensor endorses you or your use.\n",
    "* ShareAlike - If you remix, transform, or build upon the material, you must distribute your contributions under the same license as the original."
   ]
  }
 ],
 "metadata": {
  "kernelspec": {
   "display_name": "Python [conda env:env_ewf_burned_area]",
   "language": "python",
   "name": "conda-env-env_ewf_burned_area-py"
  },
  "language_info": {
   "codemirror_mode": {
    "name": "ipython",
    "version": 3
   },
   "file_extension": ".py",
   "mimetype": "text/x-python",
   "name": "python",
   "nbconvert_exporter": "python",
   "pygments_lexer": "ipython3",
   "version": "3.5.5"
  }
 },
 "nbformat": 4,
 "nbformat_minor": 4
}