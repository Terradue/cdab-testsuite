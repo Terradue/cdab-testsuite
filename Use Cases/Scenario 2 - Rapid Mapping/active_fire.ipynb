{
 "cells": [
  {
   "cell_type": "markdown",
   "metadata": {},
   "source": [
    "## Active fire detection using Sentinel-3 SLSTR data - descending acquisitions"
   ]
  },
  {
   "cell_type": "code",
   "execution_count": null,
   "metadata": {},
   "outputs": [],
   "source": [
    "import os\n",
    "import sys\n",
    "import html\n",
    "sys.path.append(os.getcwd())\n",
    "from active_fire_helpers import *\n",
    "import datetime\n",
    "import shutil\n",
    "from py_snap_helpers import snap_graph, get_operator_default_parameters\n",
    "os.environ['_JAVA_OPTIONS'] = '-Xms1g -Xmx1g'"
   ]
  },
  {
   "cell_type": "code",
   "execution_count": null,
   "metadata": {},
   "outputs": [],
   "source": [
    "%load_ext autoreload\n",
    "%autoreload 2"
   ]
  },
  {
   "cell_type": "markdown",
   "metadata": {},
   "source": [
    "### Input product"
   ]
  },
  {
   "cell_type": "markdown",
   "metadata": {},
   "source": [
    "Set the input identifier and the path of the unzipped product:"
   ]
  },
  {
   "cell_type": "code",
   "execution_count": null,
   "metadata": {},
   "outputs": [],
   "source": [
    "input_identifier = 'S3A_SL_1_RBT____20170618T104548_20170618T104848_20181004T040944_0179_019_051______LR1_R_NT_003'\n",
    "\n",
    "data_path = '/workspace/data'\n",
    "\n",
    "# For visual check:\n",
    "local_path = os.path.join(data_path, input_identifier + '.SEN3', 'xfdumanifest.xml')\n",
    "print(local_path)"
   ]
  },
  {
   "cell_type": "markdown",
   "metadata": {},
   "source": [
    "The following checks whether the manifest file exists in the configured location (if not, adjust the values in the previous cell):"
   ]
  },
  {
   "cell_type": "code",
   "execution_count": null,
   "metadata": {},
   "outputs": [],
   "source": [
    "if not os.path.exists(local_path): raise BaseException('Check the README to get the EO data')"
   ]
  },
  {
   "cell_type": "markdown",
   "metadata": {},
   "source": [
    "### Parameters"
   ]
  },
  {
   "cell_type": "markdown",
   "metadata": {},
   "source": [
    "Set the parameters for the algorithm. Adjust, if necessary, the coordinates:"
   ]
  },
  {
   "cell_type": "code",
   "execution_count": null,
   "metadata": {},
   "outputs": [],
   "source": [
    "aoi_wkt = 'POLYGON((-8.72 39.422,-8.72 40.191,-7.162 40.191,-7.162 39.422,-8.72 39.422))'\n",
    "\n",
    "f1_bt_day_threshold = 325\n",
    "\n",
    "bt_diff_day_threshold = 18\n",
    "\n",
    "f1_bt_night_threshold = 315\n",
    "\n",
    "bt_diff_night_threshold = 15"
   ]
  },
  {
   "cell_type": "markdown",
   "metadata": {},
   "source": [
    "### Sentinel-3 pre-processing - day acquisition"
   ]
  },
  {
   "cell_type": "markdown",
   "metadata": {},
   "source": [
    "Update SNAP Graph parameters:"
   ]
  },
  {
   "cell_type": "code",
   "execution_count": null,
   "metadata": {},
   "outputs": [],
   "source": [
    "read = dict()\n",
    "read['file'] =  local_path\n",
    "read['formatName'] = 'Sen3_SLSTRL1B_500m'\n",
    "\n",
    "rad2refl = dict()\n",
    "rad2refl['sensor'] = 'SLSTR_500m'\n",
    "rad2refl['copyTiePointGrids'] = 'true'\n",
    "rad2refl['copyFlagBandsAndMasks'] = 'true'\n",
    "rad2refl['copyNonSpectralBands'] = 'true'\n",
    "\n",
    "resample = dict()\n",
    "resample['referenceBandName'] = 'F1_BT_in'\n",
    "\n",
    "reproject = dict()\n",
    "reproject['crs'] = 'EPSG:4326'\n",
    "\n",
    "subset = dict()\n",
    "subset['geoRegion'] = aoi_wkt\n",
    "subset['fullSwath'] = 'false'\n",
    "subset['copyMetadata'] = 'true'\n",
    "\n",
    "write = dict()\n",
    "write['file'] = 'temp'"
   ]
  },
  {
   "cell_type": "markdown",
   "metadata": {},
   "source": [
    "Run the pre-processing and wait until it completed (this may take a short while):"
   ]
  },
  {
   "cell_type": "code",
   "execution_count": null,
   "metadata": {},
   "outputs": [],
   "source": [
    "pre_processing(orbit_direction='DESCENDING',\n",
    "               Read=read, \n",
    "               Rad2Refl=rad2refl,\n",
    "               Resample=resample,\n",
    "               Reproject=reproject,\n",
    "               Subset=subset,\n",
    "               Write=write)"
   ]
  },
  {
   "cell_type": "markdown",
   "metadata": {},
   "source": [
    "### Active fire"
   ]
  },
  {
   "cell_type": "markdown",
   "metadata": {},
   "source": [
    "Band arithmetic expressions:"
   ]
  },
  {
   "cell_type": "code",
   "execution_count": null,
   "metadata": {},
   "outputs": [],
   "source": [
    "cloud_mask_expression = html.escape('(S2_reflectance_an + S3_reflectance_an) > 0.9 or S9_BT_in < 265 or ((S2_reflectance_an + S3_reflectance_an) > 0.7 and S9_BT_in < 285)')\n",
    "\n",
    "active_fire_expression = html.escape('F1_BT_in > {0} and (F1_BT_in - F2_BT_in) > {1}').format(f1_bt_day_threshold, bt_diff_day_threshold)"
   ]
  },
  {
   "cell_type": "markdown",
   "metadata": {},
   "source": [
    "### Active fire detection"
   ]
  },
  {
   "cell_type": "code",
   "execution_count": null,
   "metadata": {},
   "outputs": [],
   "source": [
    "output_name = 'active_fire_{0}.tif'.format(input_identifier)"
   ]
  },
  {
   "cell_type": "code",
   "execution_count": null,
   "metadata": {},
   "outputs": [],
   "source": [
    "read = dict()\n",
    "\n",
    "read['file'] = 'temp.dim'\n",
    "\n",
    "bands = '''<targetBands>\n",
    "        <targetBand>\n",
    "          <name>active_fire_detected</name>\n",
    "          <type>float32</type>\n",
    "          <expression>{0} ? 0 : {1} ? 1 : 0</expression>\n",
    "          <description/>\n",
    "          <unit/>\n",
    "          <noDataValue>NaN</noDataValue>\n",
    "        </targetBand>\n",
    "        <targetBand>\n",
    "          <name>cloud</name>\n",
    "          <type>float32</type>\n",
    "          <expression>{0}</expression>\n",
    "          <description/>\n",
    "          <unit/>\n",
    "          <noDataValue>NaN</noDataValue>\n",
    "        </targetBand>\n",
    "         <targetBand>\n",
    "          <name>reflectance_mask</name>\n",
    "          <type>float32</type>\n",
    "          <expression>S3_reflectance_an == -10000 || S2_reflectance_an == -10000 || S1_reflectance_an == -10000 ? 0 : 1</expression>\n",
    "          <description/>\n",
    "          <unit/>\n",
    "          <noDataValue>NaN</noDataValue>\n",
    "        </targetBand>\n",
    "        <targetBand>\n",
    "          <name>S3_reflectance_an</name>\n",
    "          <type>float32</type>\n",
    "          <expression>S3_reflectance_an</expression>\n",
    "          <description/>\n",
    "          <unit/>\n",
    "          <noDataValue>NaN</noDataValue>\n",
    "        </targetBand>\n",
    "          <targetBand>\n",
    "          <name>S2_reflectance_an</name>\n",
    "          <type>float32</type>\n",
    "          <expression>S2_reflectance_an</expression>\n",
    "          <description/>\n",
    "          <unit/>\n",
    "          <noDataValue>NaN</noDataValue>\n",
    "        </targetBand>\n",
    "          <targetBand>\n",
    "          <name>S1_reflectance_an</name>\n",
    "          <type>float32</type>\n",
    "          <expression>S1_reflectance_an</expression>\n",
    "          <description/>\n",
    "          <unit/>\n",
    "          <noDataValue>NaN</noDataValue>\n",
    "        </targetBand>\n",
    "        </targetBands>'''.format(cloud_mask_expression, \n",
    "                                 active_fire_expression)\n",
    "\n",
    "band_maths = dict()\n",
    "band_maths['targetBandDescriptors'] = bands \n",
    "\n",
    "write = dict()\n",
    "write['file'] = output_name\n",
    "write['formatName'] = 'GeoTIFF-BigTiff'"
   ]
  },
  {
   "cell_type": "markdown",
   "metadata": {},
   "source": [
    "Run the active fire processing and wait until it completed (this may take a short while):"
   ]
  },
  {
   "cell_type": "code",
   "execution_count": null,
   "metadata": {},
   "outputs": [],
   "source": [
    "active_fire(Read=read,\n",
    "            BandMaths=band_maths,\n",
    "            Write=write)"
   ]
  },
  {
   "cell_type": "markdown",
   "metadata": {},
   "source": [
    "Cleanup:"
   ]
  },
  {
   "cell_type": "code",
   "execution_count": null,
   "metadata": {},
   "outputs": [],
   "source": [
    "os.remove('temp.dim')\n",
    "\n",
    "shutil.rmtree('temp.data')"
   ]
  },
  {
   "cell_type": "markdown",
   "metadata": {},
   "source": [
    "**END**"
   ]
  }
 ],
 "metadata": {
  "kernelspec": {
   "display_name": "Python [conda env:env_s3]",
   "language": "python",
   "name": "conda-env-env_s3-py"
  },
  "language_info": {
   "codemirror_mode": {
    "name": "ipython",
    "version": 3
   },
   "file_extension": ".py",
   "mimetype": "text/x-python",
   "name": "python",
   "nbconvert_exporter": "python",
   "pygments_lexer": "ipython3",
   "version": "3.5.6"
  }
 },
 "nbformat": 4,
 "nbformat_minor": 4
}
