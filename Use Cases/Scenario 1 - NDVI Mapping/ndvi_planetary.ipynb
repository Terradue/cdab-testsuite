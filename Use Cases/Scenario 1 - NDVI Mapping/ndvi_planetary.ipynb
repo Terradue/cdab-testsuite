{
 "cells": [
  {
   "cell_type": "markdown",
   "id": "0e882397-b776-43bb-b16d-19858cd7019c",
   "metadata": {},
   "source": [
    "# NDVI Example (Microsoft Planetary Computer)"
   ]
  },
  {
   "cell_type": "code",
   "execution_count": null,
   "id": "9e520787-f508-4e70-a38f-62170803c2da",
   "metadata": {},
   "outputs": [],
   "source": [
    "import sys\n",
    "import os\n",
    "import numpy as np\n",
    "import pystac_client\n",
    "from pystac.extensions.eo import EOExtension as eo\n",
    "from osgeo import gdal\n",
    "import planetary_computer"
   ]
  },
  {
   "cell_type": "markdown",
   "id": "4c8091f2-b298-4354-b419-542b617ffa39",
   "metadata": {},
   "source": [
    "## Set search parameters and perform search"
   ]
  },
  {
   "cell_type": "code",
   "execution_count": null,
   "id": "84d5be95-722f-4e46-85e6-7cd2bd8d767a",
   "metadata": {},
   "outputs": [],
   "source": [
    "area_of_interest = {\n",
    "    \"type\": \"Polygon\",\n",
    "    \"coordinates\": [\n",
    "        [\n",
    "            [12, 50],\n",
    "            [13, 50],\n",
    "            [13, 51],\n",
    "            [12, 51],\n",
    "            [12, 50],\n",
    "        ]\n",
    "    ]\n",
    "}"
   ]
  },
  {
   "cell_type": "code",
   "execution_count": null,
   "id": "21b59053-8308-42d7-96bd-e47b9e3c2ce2",
   "metadata": {},
   "outputs": [],
   "source": [
    "time_of_interest = \"2022-07-01/2022-08-01\""
   ]
  },
  {
   "cell_type": "code",
   "execution_count": null,
   "id": "c108fc33-af05-4648-a78e-459af7c728f3",
   "metadata": {},
   "outputs": [],
   "source": [
    "catalog = pystac_client.Client.open(\n",
    "    \"https://planetarycomputer.microsoft.com/api/stac/v1\",\n",
    "    modifier=planetary_computer.sign_inplace,\n",
    ")"
   ]
  },
  {
   "cell_type": "code",
   "execution_count": null,
   "id": "72b43a33-5c37-48db-8296-53645504c3be",
   "metadata": {},
   "outputs": [],
   "source": [
    "search = catalog.search(\n",
    "    collections=[\"sentinel-2-l2a\"],\n",
    "    intersects=area_of_interest,\n",
    "    datetime=time_of_interest,\n",
    "    query={\"eo:cloud_cover\": {\"lt\": 10}},\n",
    ")\n",
    "search = catalog.search(\n",
    "    collections=[\"sentinel-2-l2a\"],\n",
    "    intersects=area_of_interest,\n",
    "    datetime=time_of_interest,\n",
    "    query={\"eo:cloud_cover\": {\"lt\": 10}},\n",
    ")\n",
    "print(search)\n",
    "# Check how many items were returned\n",
    "items = search.item_collection()\n",
    "print(f\"Returned {len(items)} Items\")"
   ]
  },
  {
   "cell_type": "markdown",
   "id": "4882d35d-333a-4594-b0e9-3266b7c667c4",
   "metadata": {},
   "source": [
    "## Choose least cloudy item"
   ]
  },
  {
   "cell_type": "code",
   "execution_count": null,
   "id": "014f326f-be3e-4147-919c-1bffc7d3213c",
   "metadata": {},
   "outputs": [],
   "source": [
    "least_cloudy_item = min(items, key=lambda item: eo.ext(item).cloud_cover)\n",
    "print(\n",
    "    f\"Choosing {least_cloudy_item.id} from {least_cloudy_item.datetime.date()}\"\n",
    "    f\" with {eo.ext(least_cloudy_item).cloud_cover}% cloud cover\"\n",
    ")"
   ]
  },
  {
   "cell_type": "markdown",
   "id": "7b4b82c5-2e20-4692-a396-0f2b72ccc5e9",
   "metadata": {},
   "source": [
    "## Open bands and read them as float arrays"
   ]
  },
  {
   "cell_type": "code",
   "execution_count": null,
   "id": "040ecfba-7832-41ab-9bdb-83e062e7b501",
   "metadata": {},
   "outputs": [],
   "source": [
    "red_file = least_cloudy_item.assets[\"B04\"].href\n",
    "nir_file = least_cloudy_item.assets[\"B08\"].href\n",
    "\n",
    "red_data = gdal.Open(red_file)\n",
    "nir_data = gdal.Open(nir_file)\n",
    "\n",
    "red = red_data.ReadAsArray().astype(float)\n",
    "nir = nir_data.ReadAsArray().astype(float)"
   ]
  },
  {
   "cell_type": "markdown",
   "id": "9de65c74-1926-405c-9ed9-c6f933af5ac9",
   "metadata": {},
   "source": [
    "## Calculate NDVI"
   ]
  },
  {
   "cell_type": "code",
   "execution_count": null,
   "id": "9b1cb91d-1798-478a-9179-7fce428210da",
   "metadata": {},
   "outputs": [],
   "source": [
    "np.seterr(divide='ignore', invalid='ignore')\n",
    "ndvi = (nir - red) / (nir + red)"
   ]
  },
  {
   "cell_type": "markdown",
   "id": "257e8bf3-9bc5-45bd-be16-5325bb780b0e",
   "metadata": {},
   "source": [
    "## Set output filename and shape"
   ]
  },
  {
   "cell_type": "code",
   "execution_count": null,
   "id": "1b9882a1-73ce-4cd5-b249-c48145304ac0",
   "metadata": {},
   "outputs": [],
   "source": [
    "outfile_name = \"test_ndvi.tif\"\n",
    "(width, height) = ndvi.shape"
   ]
  },
  {
   "cell_type": "markdown",
   "id": "80df3097-cf3d-4bb9-ba21-cc54e4118115",
   "metadata": {},
   "source": [
    "## Create driver using output filename, x and y pixels, # of bands, and datatype"
   ]
  },
  {
   "cell_type": "code",
   "execution_count": null,
   "id": "171dc925-a440-4bcf-b286-4ef4a2055c18",
   "metadata": {
    "tags": []
   },
   "outputs": [],
   "source": [
    "driver = gdal.GetDriverByName('GTiff')"
   ]
  },
  {
   "cell_type": "markdown",
   "id": "c217dff6-582f-4b71-a310-d08c32755c7f",
   "metadata": {},
   "source": [
    "## Create driver using output filename, x and y pixels, # of bands, and datatype"
   ]
  },
  {
   "cell_type": "code",
   "execution_count": null,
   "id": "8b546830-c425-44c3-9181-76d0b510180c",
   "metadata": {},
   "outputs": [],
   "source": [
    "ndvi_data = driver.Create(outfile_name, width, height, 1, gdal.GDT_Float32)\n",
    "ndvi_data.GetRasterBand(1).WriteArray(ndvi)"
   ]
  },
  {
   "cell_type": "markdown",
   "id": "7455519f-04b2-4573-b350-7a571c0bb098",
   "metadata": {},
   "source": [
    "## Obtain and set coordinate reference system and projection information"
   ]
  },
  {
   "cell_type": "code",
   "execution_count": null,
   "id": "697b867c-c37b-43c0-82a6-0038c480888a",
   "metadata": {},
   "outputs": [],
   "source": [
    "geo_transform = red_data.GetGeoTransform()\n",
    "projection = red_data.GetProjection()\n",
    "ndvi_data.SetGeoTransform(geo_transform) \n",
    "ndvi_data.SetProjection(projection)"
   ]
  },
  {
   "cell_type": "markdown",
   "id": "d5dd983b-4bdd-4bb3-a592-786f999b7b37",
   "metadata": {},
   "source": [
    "## Save the GeoTIFF file"
   ]
  },
  {
   "cell_type": "code",
   "execution_count": null,
   "id": "694b229f-8d32-42eb-ad83-7d38b55ea3a7",
   "metadata": {},
   "outputs": [],
   "source": [
    "ndvi_data.SetGeoTransform(geo_transform) \n",
    "ndvi_data.SetProjection(projection)\n",
    "ndvi_data.FlushCache()"
   ]
  },
  {
   "cell_type": "markdown",
   "id": "fea9a16d-b66c-41d1-8601-10878b7475b5",
   "metadata": {},
   "source": [
    "## Show NDVI result"
   ]
  },
  {
   "cell_type": "code",
   "execution_count": null,
   "id": "9472ac87-7341-4948-b9d6-25ad6d0d0971",
   "metadata": {},
   "outputs": [],
   "source": [
    "from PIL import Image\n",
    "img = Image.fromarray(np.uint8((ndvi + 1) ** 3 * 255 / 8) , 'L')\n",
    "img.resize((800, 800), Image.Resampling.BILINEAR)"
   ]
  },
  {
   "cell_type": "markdown",
   "id": "0147ad10-613b-46e8-aff1-c203351da9af",
   "metadata": {},
   "source": [
    "## Show visual image as reference"
   ]
  },
  {
   "cell_type": "code",
   "execution_count": null,
   "id": "72ea4708-5f41-4d24-a2dc-539c31ad05e6",
   "metadata": {},
   "outputs": [],
   "source": [
    "import rasterio\n",
    "from rasterio import windows\n",
    "from rasterio import features\n",
    "from rasterio import warp\n",
    "\n",
    "import numpy as np\n",
    "from PIL import Image\n",
    "\n",
    "ds = rasterio.open(least_cloudy_item.assets[\"visual\"].href)\n",
    "band_data = ds.read()\n",
    "    \n",
    "img = Image.fromarray(np.transpose(band_data, axes=[1, 2, 0]))\n",
    "w = img.size[0]\n",
    "h = img.size[1]\n",
    "aspect = w / h\n",
    "target_w = 800\n",
    "target_h = (int)(target_w / aspect)\n",
    "img.resize((target_w, target_h), Image.Resampling.BILINEAR)"
   ]
  },
  {
   "cell_type": "markdown",
   "id": "9fd29031-3270-4b94-89e3-343fcfe5f32e",
   "metadata": {},
   "source": [
    "**END**"
   ]
  }
 ],
 "metadata": {
  "kernelspec": {
   "display_name": "Python 3 (ipykernel)",
   "language": "python",
   "name": "python3"
  },
  "language_info": {
   "codemirror_mode": {
    "name": "ipython",
    "version": 3
   },
   "file_extension": ".py",
   "mimetype": "text/x-python",
   "name": "python",
   "nbconvert_exporter": "python",
   "pygments_lexer": "ipython3",
   "version": "3.10.6"
  }
 },
 "nbformat": 4,
 "nbformat_minor": 5
}
